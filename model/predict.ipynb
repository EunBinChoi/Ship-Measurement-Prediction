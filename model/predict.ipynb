{
 "cells": [
  {
   "cell_type": "markdown",
   "id": "d91a8639",
   "metadata": {},
   "source": [
    "# This is the file for predicting the new data\n",
    "### Model is trained in this way  \n",
    "> There are data common to each type and data not common to each type.\n",
    "> 1) common data (Y1, Y2, Y3, Y4, Y9 ~ Y24, Y39, Y40, Y41, Y42, Y45, Y46, Y47)  \n",
    "> 2) not common data (the others)\n",
    "\n",
    "<h3 style=\"color:red\"><b><u> If the excel file is opened, it shows the error.</u></b></h3>\n",
    "<h3 style=\"color:red\"><b><u> Please close the excel file it is opened for entering the data.</u></b></h3>"
   ]
  },
  {
   "cell_type": "code",
   "execution_count": 26,
   "id": "7d2e4bfe",
   "metadata": {},
   "outputs": [],
   "source": [
    "import pandas as pd\n",
    "import numpy as np\n",
    "import os\n",
    "import pickle\n",
    "import joblib\n",
    "\n",
    "import tensorflow as tf\n",
    "from tensorflow.keras.models import Sequential\n",
    "from tensorflow.keras.layers import Dense\n",
    "from tensorflow.keras.layers import Flatten\n",
    "from tensorflow.keras.layers import Conv1D\n",
    "from tensorflow.keras.layers import MaxPooling1D\n",
    "from tensorflow.keras.layers import LSTM\n",
    "from tensorflow.keras.models import load_model\n",
    "\n",
    "from sklearn.preprocessing import StandardScaler"
   ]
  },
  {
   "cell_type": "code",
   "execution_count": 27,
   "id": "eb066db6",
   "metadata": {},
   "outputs": [],
   "source": [
    "def row_seperate(y_feature_count):\n",
    "    not_common_row = ['Y5','Y6','Y7','Y8','Y25','Y26','Y27','Y28','Y29','Y30','Y31','Y32','Y33','Y34','Y35','Y36','Y37','Y39','Y43','Y44']\n",
    "    common_row = ['Y' + str(i) for i in range(1, y_feature_count+1) if 'Y' + str(i) not in not_common_row] \n",
    "    return not_common_row, common_row\n",
    "\n",
    "def rescale(X, type_data='COMMON'):\n",
    "    scaler_file_name = 'scaler' + '-' + type_data + '.pkl'\n",
    "    scaler = joblib.load(scaler_file_name)\n",
    "    X_std = scaler.transform(X.T) \n",
    "    X_std = X_std.reshape((X_std.shape[0], X_std.shape[1], 1))\n",
    "    return X_std"
   ]
  },
  {
   "cell_type": "code",
   "execution_count": 28,
   "id": "6d1a3d7b",
   "metadata": {},
   "outputs": [],
   "source": [
    "predict_sample_count = 1\n",
    "X_feature_count = 5\n",
    "y_feature_count = 47"
   ]
  },
  {
   "cell_type": "code",
   "execution_count": 29,
   "id": "a7b6c77b",
   "metadata": {},
   "outputs": [
    {
     "data": {
      "text/plain": [
       "array([[[-0.47293994],\n",
       "        [-0.49291899],\n",
       "        [-0.75743433],\n",
       "        [-0.29442503],\n",
       "        [-0.80048697]]])"
      ]
     },
     "execution_count": 29,
     "metadata": {},
     "output_type": "execute_result"
    }
   ],
   "source": [
    "file = '../data_v2/DB(R0_H_R1 211012).xlsx'\n",
    "X = pd.read_excel(file, sheet_name='Calculation Sheet', skiprows=14, nrows=5, usecols='D')\n",
    "\n",
    "X_std = rescale(X)\n",
    "X_std"
   ]
  },
  {
   "cell_type": "code",
   "execution_count": 30,
   "id": "2f12504a",
   "metadata": {},
   "outputs": [],
   "source": [
    "# predict new data using saved model\n",
    "# common data\n",
    "not_common_row, common_row = row_seperate(y_feature_count)\n",
    "\n",
    "yhat = np.zeros(shape=(predict_sample_count, y_feature_count), dtype='double')"
   ]
  },
  {
   "cell_type": "code",
   "execution_count": 31,
   "id": "fd41e974",
   "metadata": {},
   "outputs": [
    {
     "data": {
      "text/plain": [
       "array([[     0.        ,   8015.12255859,   8679.28222656,\n",
       "             0.        ,      0.        ,      0.        ,\n",
       "             0.        ,      0.        ,   3853.31396484,\n",
       "          2163.21826172,      0.        ,   9949.15820312,\n",
       "             0.        ,   1147.36425781,      0.        ,\n",
       "             0.        ,      0.        ,    645.79608154,\n",
       "          3271.17993164,      0.        ,   3596.90161133,\n",
       "          2846.05004883,      0.        ,      0.        ,\n",
       "             0.        ,      0.        ,      0.        ,\n",
       "             0.        ,      0.        ,      0.        ,\n",
       "             0.        ,      0.        ,      0.        ,\n",
       "             0.        ,      0.        ,      0.        ,\n",
       "             0.        , 115589.2265625 ,      0.        ,\n",
       "             0.        ,   2809.01416016,   7325.13183594,\n",
       "             0.        ,      0.        ,      0.        ,\n",
       "         10450.18652344,   1184.84399414]])"
      ]
     },
     "execution_count": 31,
     "metadata": {},
     "output_type": "execute_result"
    }
   ],
   "source": [
    "model_type = \"cnn\"\n",
    "type_data = 'COMMON'\n",
    "\n",
    "file = '../data_v2/DB(R0_H_R1 211012).xlsx'\n",
    "X = pd.read_excel(file, sheet_name='Calculation Sheet', skiprows=14, nrows=5, usecols='D')\n",
    "X_std = rescale(X, type_data)\n",
    "for row in common_row:\n",
    "    i = int(row[1:])-1   \n",
    "    model = load_model(\"save_model\" + os.sep + model_type + os.sep + type_data + os.sep + model_type + str(i+1))\n",
    "    yhat[:, i] = model.predict(X_std,verbose=0)[:, 0]\n",
    "yhat"
   ]
  },
  {
   "cell_type": "code",
   "execution_count": 32,
   "id": "9f1dd780",
   "metadata": {
    "scrolled": true
   },
   "outputs": [
    {
     "data": {
      "text/plain": [
       "array([[0.00000000e+00, 8.01512256e+03, 8.67928223e+03, 0.00000000e+00,\n",
       "        0.00000000e+00, 7.36474246e-03, 0.00000000e+00, 0.00000000e+00,\n",
       "        3.85331396e+03, 2.16321826e+03, 0.00000000e+00, 9.94915820e+03,\n",
       "        0.00000000e+00, 1.14736426e+03, 0.00000000e+00, 0.00000000e+00,\n",
       "        0.00000000e+00, 6.45796082e+02, 3.27117993e+03, 0.00000000e+00,\n",
       "        3.59690161e+03, 2.84605005e+03, 0.00000000e+00, 0.00000000e+00,\n",
       "        0.00000000e+00, 0.00000000e+00, 2.91268677e-02, 0.00000000e+00,\n",
       "        0.00000000e+00, 2.35792100e-02, 0.00000000e+00, 0.00000000e+00,\n",
       "        0.00000000e+00, 0.00000000e+00, 1.20357734e+05, 4.10943125e+04,\n",
       "        0.00000000e+00, 1.15589227e+05, 0.00000000e+00, 0.00000000e+00,\n",
       "        2.80901416e+03, 7.32513184e+03, 0.00000000e+00, 0.00000000e+00,\n",
       "        0.00000000e+00, 1.04501865e+04, 1.18484399e+03]])"
      ]
     },
     "execution_count": 32,
     "metadata": {},
     "output_type": "execute_result"
    }
   ],
   "source": [
    "model_type = \"cnn\"\n",
    "type_data = X.columns[0]\n",
    "\n",
    "X_std = rescale(X, type_data=type_data)\n",
    "\n",
    "for row in not_common_row:\n",
    "    i = int(row[1:])-1   \n",
    "    model = load_model(\"save_model\" + os.sep + model_type + os.sep + type_data + os.sep + model_type + str(i+1))\n",
    "    yhat[:, i] = model.predict(X_std,verbose=0)[:, 0]\n",
    "yhat"
   ]
  },
  {
   "cell_type": "code",
   "execution_count": 33,
   "id": "4352a244",
   "metadata": {},
   "outputs": [],
   "source": [
    "import openpyxl\n",
    "\n",
    "wb = openpyxl.load_workbook(file)\n",
    "sheet = wb['Calculation Sheet']\n",
    "# len(sheet['K4':'K50'])\n",
    "\n",
    "for i in range(yhat.shape[1]):\n",
    "    sheet['K'+str(i+4)] = yhat[0][i]\n",
    "    \n",
    "wb.save(file)"
   ]
  },
  {
   "cell_type": "code",
   "execution_count": null,
   "id": "92c4c16b",
   "metadata": {},
   "outputs": [],
   "source": []
  }
 ],
 "metadata": {
  "kernelspec": {
   "display_name": "Python 3",
   "language": "python",
   "name": "python3"
  },
  "language_info": {
   "codemirror_mode": {
    "name": "ipython",
    "version": 3
   },
   "file_extension": ".py",
   "mimetype": "text/x-python",
   "name": "python",
   "nbconvert_exporter": "python",
   "pygments_lexer": "ipython3",
   "version": "3.8.8"
  }
 },
 "nbformat": 4,
 "nbformat_minor": 5
}
